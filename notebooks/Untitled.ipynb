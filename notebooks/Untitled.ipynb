{
 "cells": [
  {
   "cell_type": "code",
   "execution_count": 37,
   "id": "988064b6-1635-476a-8f09-25c1df0a9bf0",
   "metadata": {},
   "outputs": [],
   "source": [
    "import pandas as pd\n",
    "import numpy as np\n",
    "\n",
    "df = pd.read_csv('../transparency-scores.csv')"
   ]
  },
  {
   "cell_type": "code",
   "execution_count": 46,
   "id": "829eeead-67bd-46c1-a1d0-6ffb41e8206b",
   "metadata": {},
   "outputs": [
    {
     "name": "stdout",
     "output_type": "stream",
     "text": [
      "0.6071428571428571\n"
     ]
    }
   ],
   "source": [
    "bn = \"zara\"\n",
    "\n",
    "df = pd.read_csv('../transparency-scores.csv')\n",
    "entry = df[df['Brand Name'].str.replace(' ', '_').str.replace('&', '-').str.lower() == bn]\n",
    "if len(entry) > 0:\n",
    "    print(float(entry['2020 Final scores']) /  df['2020 Final scores'].values.max())"
   ]
  },
  {
   "cell_type": "code",
   "execution_count": 43,
   "id": "480a57a1-ca40-4d57-b10c-f4a7d74f12be",
   "metadata": {},
   "outputs": [
    {
     "data": {
      "text/plain": [
       "182.0"
      ]
     },
     "execution_count": 43,
     "metadata": {},
     "output_type": "execute_result"
    }
   ],
   "source": [
    "df['2020 Final scores'].values.max()"
   ]
  }
 ],
 "metadata": {
  "kernelspec": {
   "display_name": "Python 3 (ipykernel)",
   "language": "python",
   "name": "python3"
  },
  "language_info": {
   "codemirror_mode": {
    "name": "ipython",
    "version": 3
   },
   "file_extension": ".py",
   "mimetype": "text/x-python",
   "name": "python",
   "nbconvert_exporter": "python",
   "pygments_lexer": "ipython3",
   "version": "3.10.8"
  }
 },
 "nbformat": 4,
 "nbformat_minor": 5
}
